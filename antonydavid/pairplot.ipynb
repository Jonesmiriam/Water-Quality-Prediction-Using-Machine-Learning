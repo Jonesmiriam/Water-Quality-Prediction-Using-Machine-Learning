{
 "cells": [
  {
   "cell_type": "code",
   "execution_count": 1,
   "id": "e97f07e5-dc42-45ef-b0ee-21e2a650e306",
   "metadata": {},
   "outputs": [
    {
     "name": "stdout",
     "output_type": "stream",
     "text": [
      "Pairplot already exists. Loading saved image.\n"
     ]
    }
   ],
   "source": [
    "import seaborn as sns\n",
    "import pandas as pd\n",
    "import matplotlib.pyplot as plt\n",
    "import os\n",
    "\n",
    "# Load your dataset\n",
    "df = pd.read_csv(\"water_potability.csv\")  # Change to your dataset file\n",
    "\n",
    "# Define the path to save the pairplot\n",
    "pairplot_path = \"static/pairplot.png\"\n",
    "\n",
    "# Check if the pairplot already exists\n",
    "if not os.path.exists(pairplot_path):\n",
    "    print(\"Generating pairplot, this may take some time...\")\n",
    "    \n",
    "    # Generate the pairplot\n",
    "    sns.pairplot(df, diag_kind=\"kde\")\n",
    "    \n",
    "    # Save the figure\n",
    "    plt.savefig(pairplot_path, dpi=300, bbox_inches='tight')\n",
    "    plt.close()\n",
    "    print(\"Pairplot saved successfully!\")\n",
    "\n",
    "else:\n",
    "    print(\"Pairplot already exists. Loading saved image.\")\n"
   ]
  },
  {
   "cell_type": "code",
   "execution_count": null,
   "id": "79d0fc7e-255a-445d-9d47-67eea1ee15a5",
   "metadata": {},
   "outputs": [],
   "source": []
  }
 ],
 "metadata": {
  "kernelspec": {
   "display_name": "Python 3 (ipykernel)",
   "language": "python",
   "name": "python3"
  },
  "language_info": {
   "codemirror_mode": {
    "name": "ipython",
    "version": 3
   },
   "file_extension": ".py",
   "mimetype": "text/x-python",
   "name": "python",
   "nbconvert_exporter": "python",
   "pygments_lexer": "ipython3",
   "version": "3.12.7"
  }
 },
 "nbformat": 4,
 "nbformat_minor": 5
}
